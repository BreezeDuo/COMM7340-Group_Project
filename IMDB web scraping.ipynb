{
 "cells": [
  {
   "cell_type": "code",
   "execution_count": null,
   "metadata": {
    "scrolled": false
   },
   "outputs": [],
   "source": [
    "$ scrapy shell 'https://www.imdb.com/title/tt3896198/movieconnections?ref_=ttcrv_ql_trv_6'"
   ]
  },
  {
   "cell_type": "code",
   "execution_count": null,
   "metadata": {},
   "outputs": [],
   "source": [
    "References = {}\n",
    "for cnt, h4 in enumerate(response.css('div.list > h4.li_group'), start=1):\n",
    "    key = h4.xpath('normalize-space()').get().strip()\n",
    "    if key in ['References']:\n",
    "        values = h4.xpath('following-sibling::div[count(preceding-sibling::h4)=$cnt]',cnt=cnt).xpath('string(.//a)').getall()\n",
    "        year1 =  h4.xpath('following-sibling::div[count(preceding-sibling::h4)=$cnt]',\n",
    "                      cnt=cnt).xpath('string(./text())').getall()\n",
    "        References[key] = [list(x) for x in zip(values, year1)]\n",
    "        References = References['References']\n",
    "from pprint import pprint\n",
    "pprint(References)"
   ]
  },
  {
   "cell_type": "code",
   "execution_count": null,
   "metadata": {},
   "outputs": [],
   "source": [
    "import pandas as pd\n",
    "References =pd.DataFrame(References)                                 \n",
    "References.to_csv('References.csv')   "
   ]
  }
 ],
 "metadata": {
  "kernelspec": {
   "display_name": "Python 3",
   "language": "python",
   "name": "python3"
  },
  "language_info": {
   "codemirror_mode": {
    "name": "ipython",
    "version": 3
   },
   "file_extension": ".py",
   "mimetype": "text/x-python",
   "name": "python",
   "nbconvert_exporter": "python",
   "pygments_lexer": "ipython3",
   "version": "3.7.3"
  }
 },
 "nbformat": 4,
 "nbformat_minor": 2
}
